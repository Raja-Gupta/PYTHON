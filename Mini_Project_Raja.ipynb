{
 "cells": [
  {
   "cell_type": "markdown",
   "id": "1909b263",
   "metadata": {},
   "source": [
    "1.Create a dictionary of list to store the information of shipment given in the table"
   ]
  },
  {
   "cell_type": "code",
   "execution_count": 2,
   "id": "7904121e",
   "metadata": {},
   "outputs": [],
   "source": [
    "shipment={\n",
    "    101:{'Sender':1,'Receiver':3,'Start_date':'14-03-2020','Delivery_date':'25-03-2020','Sender_location':'Area1','Receiver_location':'Area6','Delivery_status':'Delivered','Shipping_cost':198},\n",
    "    102:{'Sender':4,'Receiver':1,'Start_date':'18-06-2020','Delivery_date':'09-07-2020','Sender_location':'Area2','Receiver_location':'Area4','Delivery_status':'Delivered','Shipping_cost':275},\n",
    "    103:{'Sender':2,'Receiver':3,'Start_date':'01-12-2020','Delivery_date':'Null','Sender_location':'Area5','Receiver_location':'Area1','Delivery_status':'In-Transit','Shipping_cost':200},\n",
    "    104:{'Sender':1,'Receiver':5,'Start_date':'23-06-2020','Delivery_date':'25-06-2020','Sender_location':'Area1','Receiver_location':'Area4','Delivery_status':'Delivered','Shipping_cost':314},\n",
    "    105:{'Sender':3,'Receiver':4,'Start_date':'29-08-2020','Delivery_date':'10-09-2020','Sender_location':'Area5','Receiver_location':'Area3','Delivery_status':'Delivered','Shipping_cost':275},\n",
    "    106:{'Sender':5,'Receiver':2,'Start_date':'28-06-2020','Delivery_date':'Null','Sender_location':'Area3','Receiver_location':'Area1','Delivery_status':'In-Transit','Shipping_cost':270}\n",
    "}"
   ]
  },
  {
   "cell_type": "code",
   "execution_count": 3,
   "id": "5fbaca34",
   "metadata": {},
   "outputs": [
    {
     "name": "stdout",
     "output_type": "stream",
     "text": [
      "{101: {'Sender': 1, 'Receiver': 3, 'Start_date': '14-03-2020', 'Delivery_date': '25-03-2020', 'Sender_location': 'Area1', 'Receiver_location': 'Area6', 'Delivery_status': 'Delivered', 'Shipping_cost': 198}, 102: {'Sender': 4, 'Receiver': 1, 'Start_date': '18-06-2020', 'Delivery_date': '09-07-2020', 'Sender_location': 'Area2', 'Receiver_location': 'Area4', 'Delivery_status': 'Delivered', 'Shipping_cost': 275}, 103: {'Sender': 2, 'Receiver': 3, 'Start_date': '01-12-2020', 'Delivery_date': 'Null', 'Sender_location': 'Area5', 'Receiver_location': 'Area1', 'Delivery_status': 'In-Transit', 'Shipping_cost': 200}, 104: {'Sender': 1, 'Receiver': 5, 'Start_date': '23-06-2020', 'Delivery_date': '25-06-2020', 'Sender_location': 'Area1', 'Receiver_location': 'Area4', 'Delivery_status': 'Delivered', 'Shipping_cost': 314}, 105: {'Sender': 3, 'Receiver': 4, 'Start_date': '29-08-2020', 'Delivery_date': '10-09-2020', 'Sender_location': 'Area5', 'Receiver_location': 'Area3', 'Delivery_status': 'Delivered', 'Shipping_cost': 275}, 106: {'Sender': 5, 'Receiver': 2, 'Start_date': '28-06-2020', 'Delivery_date': 'Null', 'Sender_location': 'Area3', 'Receiver_location': 'Area1', 'Delivery_status': 'In-Transit', 'Shipping_cost': 270}}\n"
     ]
    }
   ],
   "source": [
    "print(shipment)"
   ]
  },
  {
   "cell_type": "markdown",
   "id": "003c591d",
   "metadata": {},
   "source": [
    "Q2. Create a Dictionary of to store the information of clients given in the table."
   ]
  },
  {
   "cell_type": "code",
   "execution_count": 4,
   "id": "ce30305b",
   "metadata": {},
   "outputs": [],
   "source": [
    "client={1 : 'Philip',2:'Omega III',3:'Ramya',4:'Ramesh',5:'John'}"
   ]
  },
  {
   "cell_type": "code",
   "execution_count": 11,
   "id": "9bb19ab4",
   "metadata": {},
   "outputs": [
    {
     "name": "stdout",
     "output_type": "stream",
     "text": [
      "{1: 'Philip', 2: 'Omega III', 3: 'Ramya', 4: 'Ramesh', 5: 'John'}\n"
     ]
    }
   ],
   "source": [
    "print(client)"
   ]
  },
  {
   "cell_type": "markdown",
   "id": "1ef34f0b",
   "metadata": {},
   "source": [
    "Q3. Write a code to replace client’s id with their respective name in shipment dictionary using a loop and dictionary comprehension"
   ]
  },
  {
   "cell_type": "code",
   "execution_count": 12,
   "id": "16875b00",
   "metadata": {},
   "outputs": [],
   "source": [
    "updated_dict={\n",
    "    key:{k:client[v] if k in ('Sender','Receiver') else v    for k,v in value.items()} for key,value in shipment.items()\n",
    "}"
   ]
  },
  {
   "cell_type": "code",
   "execution_count": 13,
   "id": "1e1573ed",
   "metadata": {},
   "outputs": [
    {
     "name": "stdout",
     "output_type": "stream",
     "text": [
      "{101: {'Sender': 'Philip', 'Receiver': 'Ramya', 'Start_date': '14-03-2020', 'Delivery_date': '25-03-2020', 'Sender_location': 'Area1', 'Receiver_location': 'Area6', 'Delivery_status': 'Delivered', 'Shipping_cost': 198}, 102: {'Sender': 'Ramesh', 'Receiver': 'Philip', 'Start_date': '18-06-2020', 'Delivery_date': '09-07-2020', 'Sender_location': 'Area2', 'Receiver_location': 'Area4', 'Delivery_status': 'Delivered', 'Shipping_cost': 275}, 103: {'Sender': 'Omega III', 'Receiver': 'Ramya', 'Start_date': '01-12-2020', 'Delivery_date': 'Null', 'Sender_location': 'Area5', 'Receiver_location': 'Area1', 'Delivery_status': 'In-Transit', 'Shipping_cost': 200}, 104: {'Sender': 'Philip', 'Receiver': 'John', 'Start_date': '23-06-2020', 'Delivery_date': '25-06-2020', 'Sender_location': 'Area1', 'Receiver_location': 'Area4', 'Delivery_status': 'Delivered', 'Shipping_cost': 314}, 105: {'Sender': 'Ramya', 'Receiver': 'Ramesh', 'Start_date': '29-08-2020', 'Delivery_date': '10-09-2020', 'Sender_location': 'Area5', 'Receiver_location': 'Area3', 'Delivery_status': 'Delivered', 'Shipping_cost': 275}, 106: {'Sender': 'John', 'Receiver': 'Omega III', 'Start_date': '28-06-2020', 'Delivery_date': 'Null', 'Sender_location': 'Area3', 'Receiver_location': 'Area1', 'Delivery_status': 'In-Transit', 'Shipping_cost': 270}}\n"
     ]
    }
   ],
   "source": [
    "print(updated_dict)"
   ]
  },
  {
   "cell_type": "markdown",
   "id": "0fd002e9",
   "metadata": {},
   "source": [
    "Q4. Print all shipment details that are sent by Phillip"
   ]
  },
  {
   "cell_type": "code",
   "execution_count": 43,
   "id": "b3c1a0fc",
   "metadata": {},
   "outputs": [
    {
     "name": "stdout",
     "output_type": "stream",
     "text": [
      "101 {'Sender': 'Philip', 'Receiver': 'Ramya', 'Start_date': '14-03-2020', 'Delivery_date': '25-03-2020', 'Sender_location': 'Area1', 'Receiver_location': 'Area6', 'Delivery_status': 'Delivered', 'Shipping_cost': 198}\n"
     ]
    }
   ],
   "source": [
    "for i,j in updated_dict.items():\n",
    "    if  j['Sender'] =='Philip':\n",
    "        print(i,j)\n",
    "        break\n",
    "else:\n",
    "    print('No record found for Philip')\n",
    "        "
   ]
  },
  {
   "cell_type": "markdown",
   "id": "88b1856c",
   "metadata": {},
   "source": [
    "Q5. Print all shipment details that are received by Ramya"
   ]
  },
  {
   "cell_type": "code",
   "execution_count": 44,
   "id": "d3982c27",
   "metadata": {},
   "outputs": [
    {
     "name": "stdout",
     "output_type": "stream",
     "text": [
      "101 {'Sender': 'Philip', 'Receiver': 'Ramya', 'Start_date': '14-03-2020', 'Delivery_date': '25-03-2020', 'Sender_location': 'Area1', 'Receiver_location': 'Area6', 'Delivery_status': 'Delivered', 'Shipping_cost': 198}\n"
     ]
    }
   ],
   "source": [
    "for i,j in updated_dict.items():\n",
    "    if  j['Receiver'] =='Ramya':\n",
    "        print(i,j)\n",
    "        break\n",
    "else:\n",
    "    print('No record found for Ramya')\n",
    "        "
   ]
  },
  {
   "cell_type": "markdown",
   "id": "f19ecbd9",
   "metadata": {},
   "source": [
    "Q6. Print all shipments which are in 'In-Transit' status"
   ]
  },
  {
   "cell_type": "code",
   "execution_count": 45,
   "id": "fc86a9ef",
   "metadata": {},
   "outputs": [
    {
     "name": "stdout",
     "output_type": "stream",
     "text": [
      "103 {'Sender': 'Omega III', 'Receiver': 'Ramya', 'Start_date': '01-12-2020', 'Delivery_date': 'Null', 'Sender_location': 'Area5', 'Receiver_location': 'Area1', 'Delivery_status': 'In-Transit', 'Shipping_cost': 200}\n"
     ]
    }
   ],
   "source": [
    "for i,j in updated_dict.items():\n",
    "    if  j['Delivery_status'] == 'In-Transit':\n",
    "        print(i,j)\n",
    "        break\n",
    "else:\n",
    "    print('No record found for Ramya')"
   ]
  },
  {
   "cell_type": "markdown",
   "id": "0028b501",
   "metadata": {},
   "source": [
    "Q7. Print all shipments which are delivered within 7 days of courier Start date"
   ]
  },
  {
   "cell_type": "code",
   "execution_count": 28,
   "id": "4bb96d09",
   "metadata": {},
   "outputs": [
    {
     "name": "stdout",
     "output_type": "stream",
     "text": [
      "{'Sender': 'Philip', 'Receiver': 'John', 'Start_date': '23-06-2020', 'Delivery_date': '25-06-2020', 'Sender_location': 'Area1', 'Receiver_location': 'Area4', 'Delivery_status': 'Delivered', 'Shipping_cost': 314}\n"
     ]
    }
   ],
   "source": [
    "from datetime import datetime\n",
    "for key,value in updated_dict.items():\n",
    "    if value['Delivery_date'] == \"Null\":\n",
    "        continue\n",
    "    SD = datetime.strptime(value[\"Start_date\"], \"%d-%m-%Y\")\n",
    "    DD = datetime.strptime(value[\"Delivery_date\"], \"%d-%m-%Y\")\n",
    "    if (DD - SD).days < 7:\n",
    "        print(value)\n",
    "        break\n",
    "else:\n",
    "    print(\"There is no delivery have been done within 7 days\")\n",
    "            \n",
    "    "
   ]
  },
  {
   "cell_type": "markdown",
   "id": "88f9b54e",
   "metadata": {},
   "source": [
    "Q8. Print all shipments which are delivered after 15 days of courier start date or not yet been delivered."
   ]
  },
  {
   "cell_type": "code",
   "execution_count": 32,
   "id": "99d7a736",
   "metadata": {},
   "outputs": [
    {
     "name": "stdout",
     "output_type": "stream",
     "text": [
      "{'Sender': 'Ramesh', 'Receiver': 'Philip', 'Start_date': '18-06-2020', 'Delivery_date': '09-07-2020', 'Sender_location': 'Area2', 'Receiver_location': 'Area4', 'Delivery_status': 'Delivered', 'Shipping_cost': 275}\n"
     ]
    }
   ],
   "source": [
    "from datetime import datetime\n",
    "for key,value in updated_dict.items():\n",
    "    if value['Delivery_date'] == \"Null\":\n",
    "        continue\n",
    "    SD = datetime.strptime(value[\"Start_date\"], \"%d-%m-%Y\")\n",
    "    DD = datetime.strptime(value[\"Delivery_date\"], \"%d-%m-%Y\")\n",
    "    if (DD - SD).days > 15:\n",
    "        print(value)\n",
    "        break\n",
    "else:\n",
    "    print(\"There are no courier delivered after 15 days\")\n",
    "            "
   ]
  },
  {
   "cell_type": "markdown",
   "id": "e91f5e72",
   "metadata": {},
   "source": [
    "Q 9. Write a function find_all_routes to display all possible routes from senders location to receivers location given in the dictionary for each shipment.¶"
   ]
  },
  {
   "cell_type": "code",
   "execution_count": 42,
   "id": "b1ba8f80",
   "metadata": {},
   "outputs": [
    {
     "name": "stdout",
     "output_type": "stream",
     "text": [
      "All the possible routes from senders location to receivers locations are [[1, 2, 3, 4, 5], [1, 2, 4, 5]]\n"
     ]
    }
   ],
   "source": [
    "connected_nodes= {1: [2],2:[1,3,4],3:[2,4],4:[2,3,5],5:[4]}\n",
    "def  find_routes(connected_nodes,sender,receiver,route=[]):\n",
    "    route = route + [sender]\n",
    "    if sender == receiver:\n",
    "        return [route]\n",
    "    routes=[]\n",
    "    \n",
    "    for i in connected_nodes[sender]:\n",
    "        if i not in route:\n",
    "            newroutes=find_routes(connected_nodes,i,receiver,route)\n",
    "            for newroute in newroutes:\n",
    "                routes.append(newroute)\n",
    "    return routes\n",
    "r=find_routes(connected_nodes,1,5)\n",
    "\n",
    "print('All the possible routes from senders location to receivers locations are',r)"
   ]
  },
  {
   "cell_type": "code",
   "execution_count": null,
   "id": "3b5e80d3",
   "metadata": {},
   "outputs": [],
   "source": []
  },
  {
   "cell_type": "code",
   "execution_count": null,
   "id": "eda76a5e",
   "metadata": {},
   "outputs": [],
   "source": []
  }
 ],
 "metadata": {
  "kernelspec": {
   "display_name": "Python 3",
   "language": "python",
   "name": "python3"
  },
  "language_info": {
   "codemirror_mode": {
    "name": "ipython",
    "version": 3
   },
   "file_extension": ".py",
   "mimetype": "text/x-python",
   "name": "python",
   "nbconvert_exporter": "python",
   "pygments_lexer": "ipython3",
   "version": "3.8.8"
  }
 },
 "nbformat": 4,
 "nbformat_minor": 5
}
